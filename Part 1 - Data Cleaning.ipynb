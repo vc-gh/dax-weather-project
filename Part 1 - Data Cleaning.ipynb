{
    "cells": [
        {
            "source": "# @hidden_cell\n# The project token is an authorization token that is used to access project resources like data sources, connections, and used by platform APIs.\nfrom project_lib import Project\nproject = Project(project_id='e4c21489-ad65-4dda-8449-a49a5e577e55', project_access_token='p-6de72195a1804207206130fa387f84906969db5e')\n",
            "cell_type": "code",
            "execution_count": null,
            "outputs": [],
            "metadata": {}
        },
        {
            "metadata": {
                "collapsed": true
            },
            "cell_type": "markdown",
            "source": "# Cleaning NOAA Weather Data of JFK Airport (New York)\n\nThis notebook relates to the NOAA Weather Dataset - JFK Airport (New York). The dataset contains 114,546 hourly observations of 12 local climatological variables (such as temperature and wind speed) collected at JFK airport. This dataset can be obtained for free from the IBM Developer [Data Asset Exchange](https://developer.ibm.com/exchanges/data/all/jfk-weather-data/).\n\nIn this notebook, we clean the raw dataset by:\n* removing redundant columns and preserving only key numeric columns\n* converting and cleaning data where required\n* creating a fixed time interval between observations (this aids with later time-series analysis)\n* filling missing values\n* encoding certain weather features\n\n### Table of Contents:\n* [0. Prerequisites](#cell0)\n* [1. Read the Raw Data](#cell1)\n* [2. Clean the Data](#cell2)\n  * [2.1 Select data columns](#cell3)\n  * [2.2 Clean up precipitation column](#cell4)\n  * [2.3 Convert columns to numerical types](#cell5)\n  * [2.4 Reformat and process data](#cell6)\n  * [2.5 Create a fixed interval dataset](#cell7)\n  * [2.6 Feature encoding](#cell8)\n  * [2.7 Rename columns](#cell9)\n* [3. Save the Cleaned Data](#cell10)\n* [Authors](#authors)\n\n<a id=\"cell0\"></a>\n### 0. Prerequisites\n\nBefore you run this notebook complete the following steps:\n- Insert a project token\n- Import required modules\n\n#### Insert a project token\n\nWhen you import this project from the Watson Studio Gallery, a token should be automatically generated and inserted at the top of this notebook as a code cell such as the one below:\n\n```python\n# @hidden_cell\n# The project token is an authorization token that is used to access project resources like data sources, connections, and used by platform APIs.\nfrom project_lib import Project\nproject = Project(project_id='YOUR_PROJECT_ID', project_access_token='YOUR_PROJECT_TOKEN')\npc = project.project_context\n```\n\nIf you do not see the cell above, follow these steps to enable the notebook to access the dataset from the project's resources:\n\n* Click on `More -> Insert project token` in the top-right menu section\n\n![ws-project.mov](https://media.giphy.com/media/jSVxX2spqwWF9unYrs/giphy.gif)\n\n* This should insert a cell at the top of this notebook similar to the example given above.\n\n  > If an error is displayed indicating that no project token is defined, follow [these instructions](https://dataplatform.cloud.ibm.com/docs/content/wsj/analyze-data/token.html?audience=wdp&context=data).\n\n* Run the newly inserted cell before proceeding with the notebook execution below\n\n#### Import required modules\n\nImport and configure the required modules."
        },
        {
            "metadata": {},
            "cell_type": "code",
            "source": "# Define required imports\nimport pandas as pd\nimport numpy as np\nimport sys\nimport re\n# These set pandas max column and row display in the notebook\npd.set_option('display.max_columns', 50)\npd.set_option('display.max_rows', 50)",
            "execution_count": null,
            "outputs": []
        },
        {
            "metadata": {},
            "cell_type": "markdown",
            "source": "<a id=\"cell1\"></a>\n\n### 1. Read the Raw Data\n\nWe start by reading in the raw dataset, displaying the first few rows of the dataframe, and taking a look at the columns and column types present."
        },
        {
            "metadata": {},
            "cell_type": "code",
            "source": "# define filename\nDATA_PATH = 'jfk_weather.csv'\n\ndef get_file_handle(fname):\n    # Project data path for the raw data file\n    data_path = project.get_file(fname)\n    data_path.seek(0)\n    return data_path\n\n# Using pandas to read the data \n# Since the `DATE` column consists date-time information, we use Pandas parse_dates keyword for easier data processing\ndata_path = get_file_handle(DATA_PATH)\nraw_data = pd.read_csv(data_path, parse_dates=['DATE'])\nraw_data.head()",
            "execution_count": null,
            "outputs": []
        },
        {
            "metadata": {},
            "cell_type": "code",
            "source": "raw_data.dtypes",
            "execution_count": null,
            "outputs": []
        },
        {
            "metadata": {},
            "cell_type": "markdown",
            "source": "<a id=\"cell2\"></a>\n\n### 2. Clean the Data\n\nAs you can see above, there are a lot of fields which are non-numerical - usually these will be fields that contain text or categorical data, e.g. `HOURLYSKYCONDITIONS`.\n\nThere are also fields - such as the main temperature field of interest `HOURLYDRYBULBTEMPF` - that we expect to be numerical, but are instead `object` type. This often indicates that there may be missing (or `null`) values, or some other unusual readings that we may have to deal with (since otherwise the field would have been fully parsed as a numerical data type).\n\nIn addition, some fields relate to hourly observations, while others relate to daily or monthly intervals. For purposes of later exploratory data analysis, we will restrict the dataset to a certain subset  of numerical fields that relate to hourly observations.\n\nIn this section, we refer to the [NOAA Local Climatological Data Documentation](https://data.noaa.gov/dataset/dataset/u-s-local-climatological-data-lcd/resource/ee7381ea-647a-434f-8cfa-81202b9b4c05) to describe the fields and meaning of various values.\n\n<a id=\"cell3\"></a>\n#### 2.1 Select data columns\n\nFirst, we select only the subset of data columns of interest and inspect the column types."
        },
        {
            "metadata": {},
            "cell_type": "code",
            "source": "# Choose what columns to import from raw data\ncolumn_subset = [\n    'DATE',\n    'HOURLYVISIBILITY',\n    'HOURLYDRYBULBTEMPF',\n    'HOURLYWETBULBTEMPF',\n    'HOURLYDewPointTempF',\n    'HOURLYRelativeHumidity',\n    'HOURLYWindSpeed',\n    'HOURLYWindDirection',\n    'HOURLYStationPressure',\n    'HOURLYPressureTendency',\n    'HOURLYSeaLevelPressure',\n    'HOURLYPrecip',\n    'HOURLYAltimeterSetting'\n]\n\n# Filter dataset to relevant columns\nhourly_data = raw_data[column_subset]\n# Set date index\nhourly_data = hourly_data.set_index(pd.DatetimeIndex(hourly_data['DATE']))\nhourly_data.drop(['DATE'], axis=1, inplace=True)\nhourly_data.replace(to_replace='*', value=np.nan, inplace=True)\nhourly_data.head()",
            "execution_count": null,
            "outputs": []
        },
        {
            "metadata": {},
            "cell_type": "code",
            "source": "hourly_data.dtypes",
            "execution_count": null,
            "outputs": []
        },
        {
            "metadata": {},
            "cell_type": "markdown",
            "source": "<a id=\"cell4\"></a>\n#### 2.2 Clean up precipitation column\n\nFrom the dataframe preview above, we can see that the column `HOURLYPrecip` - which is the hourly measure of precipitation levels - contains both `NaN` and `T` values. `T` specifies *trace amounts of precipitation*, while `NaN` means *not a number*, and is used to denote missing values.\n\nWe can also inspect the unique values present for the field."
        },
        {
            "metadata": {},
            "cell_type": "code",
            "source": "hourly_data['HOURLYPrecip'].unique()",
            "execution_count": null,
            "outputs": []
        },
        {
            "metadata": {},
            "cell_type": "markdown",
            "source": "We can see that some values end with an `s` (indicating snow), while there is a strange value `0.020.01s` which appears to be an error of some sort. To deal with `T` values, we will set the observation to be `0`. We will also replace the erroneous value `0.020.01s` with `NaN`."
        },
        {
            "metadata": {},
            "cell_type": "code",
            "source": "# Fix imported data\nhourly_data['HOURLYPrecip'].replace(to_replace='T', value='0.00', inplace=True)\nhourly_data['HOURLYPrecip'].replace('0.020.01s', np.nan, inplace=True)",
            "execution_count": null,
            "outputs": []
        },
        {
            "metadata": {},
            "cell_type": "markdown",
            "source": "<a id=\"cell5\"></a>\n#### 2.3 Convert columns to numerical types\n\nNext, we will convert string columns that refer to numerical values to numerical types. For columns such as `HOURLYPrecip`, we first also drop the non-numerical parts of the value (the `s` character)."
        },
        {
            "metadata": {},
            "cell_type": "code",
            "source": "# Set of columns to convert\nmessy_columns = column_subset[1:]\n\n# Convert columns to float32 datatype\nfor i in messy_columns:\n    hourly_data[i] = hourly_data[i].apply(lambda x: re.sub('[^0-9,.-]', '', x) if type(x) == str else x).replace('', np.nan).astype(('float32'))",
            "execution_count": null,
            "outputs": []
        },
        {
            "metadata": {},
            "cell_type": "markdown",
            "source": "We can now see that all fields have numerical data type."
        },
        {
            "metadata": {
                "scrolled": true
            },
            "cell_type": "code",
            "source": "print(hourly_data.info())\nprint()\nhourly_data.head()",
            "execution_count": null,
            "outputs": []
        },
        {
            "metadata": {},
            "cell_type": "markdown",
            "source": "<a id=\"cell6\"></a>\n#### 2.4 Reformat and process data\n\nNext, we will clean up some of the data columns to ensure their values fall within the parameters defined by the NOAA documentation (referred to above). "
        },
        {
            "metadata": {},
            "cell_type": "code",
            "source": "# Generate the summary statistics for each column\nhourly_data.describe()",
            "execution_count": null,
            "outputs": []
        },
        {
            "metadata": {},
            "cell_type": "markdown",
            "source": "According to the documentation, the `HOURLYPressureTendency` field should be an integer value in the range `[0, 8]`. Let's check if this condition holds for this dataset."
        },
        {
            "metadata": {},
            "cell_type": "code",
            "source": "# Check if categorical variable HOURLYPressureTendency ever has a non-integer entry outside the bounds of 0-8\ncond = len(hourly_data[~hourly_data['HOURLYPressureTendency'].isin(list(range(0,9)) + [np.nan])])\nprint('Hourly Pressure Tendency should be between 0 and 8: {}'.format(cond == 0))",
            "execution_count": null,
            "outputs": []
        },
        {
            "metadata": {},
            "cell_type": "markdown",
            "source": "The `HOURLYVISIBILITY` should be an integer in the range `[0, 10]`. Let's check this condition too."
        },
        {
            "metadata": {},
            "cell_type": "code",
            "source": "# Hourly Visibility should be between 0 and 10\nhourly_data[(hourly_data['HOURLYVISIBILITY'] < 0) | (hourly_data['HOURLYVISIBILITY'] > 10)]",
            "execution_count": null,
            "outputs": []
        },
        {
            "metadata": {},
            "cell_type": "markdown",
            "source": "We find that a couple of observations fall outside the range. These must be spurious data observations and we handle them by replacing them with `NaN`."
        },
        {
            "metadata": {},
            "cell_type": "code",
            "source": "# Replace any hourly visibility figure outside these bounds with nan\nhourly_data.loc[hourly_data['HOURLYVISIBILITY'] > 10, 'HOURLYVISIBILITY'] = np.nan\n\n# Hourly Visibility should be between 0 and 10\ncond = len(hourly_data[(hourly_data['HOURLYVISIBILITY'] < 0) | (hourly_data['HOURLYVISIBILITY'] > 10)])\nprint('Hourly Visibility should be between 0 and 10: {}'.format(cond == 0))",
            "execution_count": null,
            "outputs": []
        },
        {
            "metadata": {},
            "cell_type": "markdown",
            "source": "Finally, we check if there are any duplicates with respect to our `DATE` index and check furthermore that our dates are in the correct order (that is, strictly increasing)."
        },
        {
            "metadata": {},
            "cell_type": "code",
            "source": "cond = len(hourly_data[hourly_data.index.duplicated()].sort_index())\nprint('Date index contains no duplicate entries: {}'.format(cond == 0))",
            "execution_count": null,
            "outputs": []
        },
        {
            "metadata": {},
            "cell_type": "code",
            "source": "# Make sure time index is sorted and increasing\nprint('Date index is strictly increasing: {}'.format(hourly_data.index.is_monotonic_increasing))",
            "execution_count": null,
            "outputs": []
        },
        {
            "metadata": {},
            "cell_type": "markdown",
            "source": "<a id=\"cell7\"></a>\n#### 2.5 Create a fixed interval dataset\n\nMost time-series analysis requires (or certainly works much better with) data that has fixed measurement intervals. As you may have noticed from the various data samples above, the measurement intervals for this dataset are not exactly hourly. So, we will use `Pandas`' resampling functionality to create a dataset that has exact hourly measurement intervals."
        },
        {
            "metadata": {},
            "cell_type": "code",
            "source": "# Resample (downsample) to hourly rows (we're shifting everything up by 9 minutes!)\nhourly_data = hourly_data.resample('60min').last().shift(periods=1) #Note: use resample('60min', base=51) to resample on the 51st of every hour",
            "execution_count": null,
            "outputs": []
        },
        {
            "metadata": {},
            "cell_type": "markdown",
            "source": "We will now also replace missing values. For numerical values, we will linearly interpolate between the previous and next valid obvservations. For the categorical `HOURLYPressureTendency` field, we will replace missing values with the last valid observation."
        },
        {
            "metadata": {},
            "cell_type": "code",
            "source": "hourly_data['HOURLYPressureTendency'] = hourly_data['HOURLYPressureTendency'].fillna(method='ffill') # fill with last valid observation\nhourly_data = hourly_data.interpolate(method='linear') # interpolate missing values\nhourly_data.drop(hourly_data.index[0], inplace=True) # drop first row",
            "execution_count": null,
            "outputs": []
        },
        {
            "metadata": {},
            "cell_type": "code",
            "source": "print(hourly_data.info())\nprint()\nhourly_data.head()",
            "execution_count": null,
            "outputs": []
        },
        {
            "metadata": {},
            "cell_type": "markdown",
            "source": "<a id=\"cell8\"></a>\n#### 2.6 Feature encoding\n\nThe final pre-processing step we will perform will be to handle two of our columns in a special way in order to correctly encode these features. They are:\n\n1. `HOURLYWindDirection` - wind direction\n2. `HOURLYPressureTendency` - an indicator of pressure changes\n\nFor `HOURLYWindDirection`, we encode the raw feature value as two new values, which measure the cyclical nature of wind direction - that is, we are encoding the compass-point nature of wind direction measurements."
        },
        {
            "metadata": {},
            "cell_type": "code",
            "source": "# Transform HOURLYWindDirection into a cyclical variable using sin and cos transforms\nhourly_data['HOURLYWindDirectionSin'] = np.sin(hourly_data['HOURLYWindDirection']*(2.*np.pi/360))\nhourly_data['HOURLYWindDirectionCos'] = np.cos(hourly_data['HOURLYWindDirection']*(2.*np.pi/360))\nhourly_data.drop(['HOURLYWindDirection'], axis=1, inplace=True)",
            "execution_count": null,
            "outputs": []
        },
        {
            "metadata": {},
            "cell_type": "markdown",
            "source": "For `HOURLYPressureTendency`, the feature value is in fact a `categorical` feature with three levels:\n* `0-3` indicates an increase in pressure over the previous 3 hours\n* `4` indicates no change during the previous 3 hours\n* `5-8` indicates a decrease over the previous 3 hours\n\nHence, we encode this feature into 3 dummy values representing these 3 potential states."
        },
        {
            "metadata": {},
            "cell_type": "code",
            "source": "# Transform HOURLYPressureTendency into 3 dummy variables based on NOAA documentation\nhourly_data['HOURLYPressureTendencyIncr'] = [1.0 if x in [0,1,2,3] else 0.0 for x in hourly_data['HOURLYPressureTendency']] # 0 through 3 indicates an increase in pressure over previous 3 hours\nhourly_data['HOURLYPressureTendencyDecr'] = [1.0 if x in [5,6,7,8] else 0.0 for x in hourly_data['HOURLYPressureTendency']] # 5 through 8 indicates a decrease over previous 3 hours\nhourly_data['HOURLYPressureTendencyConst'] = [1.0 if x == 4 else 0.0 for x in hourly_data['HOURLYPressureTendency']] # 4 indicates no change during previous 3 hours\nhourly_data.drop(['HOURLYPressureTendency'], axis=1, inplace=True)\nhourly_data['HOURLYPressureTendencyIncr'] = hourly_data['HOURLYPressureTendencyIncr'].astype(('float32'))\nhourly_data['HOURLYPressureTendencyDecr'] = hourly_data['HOURLYPressureTendencyDecr'].astype(('float32'))\nhourly_data['HOURLYPressureTendencyConst'] = hourly_data['HOURLYPressureTendencyConst'].astype(('float32'))",
            "execution_count": null,
            "outputs": []
        },
        {
            "metadata": {},
            "cell_type": "markdown",
            "source": "<a id=\"cell9\"></a>\n#### 2.7 Rename columns\n\nBefore saving the dataset, we will rename the columns for readability."
        },
        {
            "metadata": {},
            "cell_type": "code",
            "source": "hourly_data.columns",
            "execution_count": null,
            "outputs": []
        },
        {
            "metadata": {},
            "cell_type": "code",
            "source": "# define the new column names\ncolumns_new_name = [\n    'visibility',\n    'dry_bulb_temp_f',\n    'wet_bulb_temp_f',\n    'dew_point_temp_f',\n    'relative_humidity',\n    'wind_speed',\n    'station_pressure',\n    'sea_level_pressure',\n    'precip',\n    'altimeter_setting',\n    'wind_direction_sin',\n    'wind_direction_cos',\n    'pressure_tendency_incr',\n    'pressure_tendency_decr',\n    'pressure_tendency_const'\n]\n\ncolumns_name_map = {c:columns_new_name[i] for i, c in enumerate(hourly_data.columns)}\n\nhourly_data_renamed = hourly_data.rename(columns=columns_name_map)",
            "execution_count": null,
            "outputs": []
        },
        {
            "metadata": {},
            "cell_type": "code",
            "source": "print(hourly_data_renamed.info())\nprint()\nhourly_data_renamed.head()",
            "execution_count": null,
            "outputs": []
        },
        {
            "metadata": {},
            "cell_type": "code",
            "source": "# Explore some general information about the dataset\nprint('# of megabytes held by dataframe: ' + str(round(sys.getsizeof(hourly_data_renamed) / 1000000,2)))\nprint('# of features: ' + str(hourly_data_renamed.shape[1])) \nprint('# of observations: ' + str(hourly_data_renamed.shape[0]))\nprint('Start date: ' + str(hourly_data_renamed.index[0]))\nprint('End date: ' + str(hourly_data_renamed.index[-1]))\nprint('# of days: ' + str((hourly_data_renamed.index[-1] - hourly_data_renamed.index[0]).days))\nprint('# of months: ' + str(round((hourly_data_renamed.index[-1] - hourly_data_renamed.index[0]).days/30,2)))\nprint('# of years: ' + str(round((hourly_data_renamed.index[-1] - hourly_data_renamed.index[0]).days/365,2)))",
            "execution_count": null,
            "outputs": []
        },
        {
            "metadata": {},
            "cell_type": "markdown",
            "source": "<a id=\"cell10\"></a>\n\n### 3. Save the Cleaned Data\n\nFinally, we save the cleaned dataset as a Project asset for later re-use. You should see an output like the one below if successful:\n\n```\n{'file_name': 'jfk_weather_cleaned.csv',\n 'message': 'File saved to project storage.',\n 'bucket_name': 'jfkweatherdata-donotdelete-pr-...',\n 'asset_id': '...'}\n```\n\n**Note**: In order for this step to work, your project token (see the first cell of this notebook) must have `Editor` role. By default this will overwrite any existing file."
        },
        {
            "metadata": {},
            "cell_type": "code",
            "source": "project.save_data(\"jfk_weather_cleaned.csv\", hourly_data_renamed.to_csv(float_format='%g'), overwrite=True)",
            "execution_count": null,
            "outputs": []
        },
        {
            "metadata": {},
            "cell_type": "markdown",
            "source": "#### Next steps\n\n- Close this notebook.\n- Open the `Part 2 - Data Analysis` notebook to explore the cleaned dataset."
        },
        {
            "metadata": {},
            "cell_type": "markdown",
            "source": "<a id=\"authors\"></a> \n### Authors"
        },
        {
            "metadata": {},
            "cell_type": "markdown",
            "source": "This notebook was created by the [Center for Open-Source Data & AI Technologies](http://codait.org).\n\nCopyright \u00a9 2019 IBM. This notebook and its source code are released under the terms of the MIT License."
        },
        {
            "metadata": {},
            "cell_type": "markdown",
            "source": "<div style=\"background:#F5F7FA; height:110px; padding: 2em; font-size:14px;\">\n<span style=\"font-size:18px;color:#152935;\">Love this notebook? </span>\n<span style=\"font-size:15px;color:#152935;float:right;margin-right:40px;\">Don't have an account yet?</span><br>\n<span style=\"color:#5A6872;\">Share it with your colleagues and help them discover the power of Watson Studio!</span>\n<span style=\"border: 1px solid #3d70b2;padding:8px;float:right;margin-right:40px; color:#3d70b2;\"><a href=\"https://ibm.co/wsnotebooks\" target=\"_blank\" style=\"color: #3d70b2;text-decoration: none;\">Sign Up</a></span><br>\n</div>"
        }
    ],
    "metadata": {
        "kernelspec": {
            "name": "python3",
            "display_name": "Python 3.6",
            "language": "python"
        },
        "language_info": {
            "name": "python",
            "version": "3.6.9",
            "mimetype": "text/x-python",
            "codemirror_mode": {
                "name": "ipython",
                "version": 3
            },
            "pygments_lexer": "ipython3",
            "nbconvert_exporter": "python",
            "file_extension": ".py"
        }
    },
    "nbformat": 4,
    "nbformat_minor": 1
}