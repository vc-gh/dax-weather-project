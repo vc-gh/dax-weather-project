{
    "cells": [
        {
            "cell_type": "code",
            "execution_count": null,
            "metadata": {},
            "outputs": [],
            "source": "# The code was removed by Watson Studio for sharing."
        },
        {
            "cell_type": "markdown",
            "metadata": {},
            "source": "# Time Series Forecasting using the NOAA Weather Data of JFK Airport (New York)\n\nThis notebook relates to the NOAA Weather Dataset - JFK Airport (New York). The dataset contains 114,546 hourly observations of 12 local climatological variables (such as temperature and wind speed) collected at JFK airport. This dataset can be obtained for free from the IBM Developer [Data Asset Exchange](https://developer.ibm.com/exchanges/data/all/jfk-weather-data/).\n\nIn this notebook we explore approaches to predicting future temperatures by using the time-series dataset.\n\n### Table of Contents:\n* [0. Prerequisites](#cell0)\n* [1. Read the Cleaned Data](#cell1)\n* [2. Explore Baseline Models](#cell2)\n* [3. Train Statistical Time-series Analysis Models](#cell3)\n* [Authors](#cell4)\n\n<a id=\"cell0\"></a>\n### 0. Prerequisites\n\nBefore you run this notebook complete the following steps:\n- Insert a project token\n- Import required modules\n\n#### Insert a project token\n\nWhen you import this project from the Watson Studio Gallery, a token should be automatically generated and inserted at the top of this notebook as a code cell such as the one below:\n\n```python\n# @hidden_cell\n# The project token is an authorization token that is used to access project resources like data sources, connections, and used by platform APIs.\nfrom project_lib import Project\nproject = Project(project_id='YOUR_PROJECT_ID', project_access_token='YOUR_PROJECT_TOKEN')\npc = project.project_context\n```\n\nIf you do not see the cell above, follow these steps to enable the notebook to access the dataset from the project's resources:\n\n* Click on `More -> Insert project token` in the top-right menu section\n\n![ws-project.mov](https://media.giphy.com/media/jSVxX2spqwWF9unYrs/giphy.gif)\n\n* This should insert a cell at the top of this notebook similar to the example given above.\n\n  > If an error is displayed indicating that no project token is defined, follow [these instructions](https://dataplatform.cloud.ibm.com/docs/content/wsj/analyze-data/token.html?audience=wdp&context=data).\n\n* Run the newly inserted cell before proceeding with the notebook execution below\n\n#### Import required modules\n\nImport and configure the required modules."
        },
        {
            "cell_type": "code",
            "execution_count": null,
            "metadata": {},
            "outputs": [],
            "source": "import numpy as np\nimport pandas as pd\nfrom sklearn.metrics import mean_squared_error\nfrom statsmodels.tsa.statespace.sarimax import SARIMAX\nfrom matplotlib import pyplot as plt"
        },
        {
            "cell_type": "markdown",
            "metadata": {},
            "source": "<a id=\"cell1\"></a>\n\n### 1. Read the Cleaned Data\n\nWe start by reading the cleaned dataset that was created in the project notebook `Part 1 - Data Cleaning`. \n\n**Note:** if you haven't yet run this notebook, run it first; otherwise the cells below will not work."
        },
        {
            "cell_type": "code",
            "execution_count": null,
            "metadata": {},
            "outputs": [],
            "source": "def get_file_handle(fname):\n    # Project data path for the raw data file\n    data_path = project.get_file(fname)\n    data_path.seek(0)\n    return data_path\n\n# Using pandas to read the data \n# Since the `DATE` column consists date-time information, we use Pandas parse_dates keyword for easier data processing\ndata_path = get_file_handle('jfk_weather_cleaned.csv')\ndata = pd.read_csv(data_path, parse_dates=['DATE'])\n# Set date index\ndata = data.set_index(pd.DatetimeIndex(data['DATE']))\ndata.drop(['DATE'], axis=1, inplace=True)\ndata.head()"
        },
        {
            "cell_type": "markdown",
            "metadata": {},
            "source": "For purposes of time-series modeling, we will restrict our analysis to a 2-year sample of the dataset to avoid overly long model-training times. "
        },
        {
            "cell_type": "code",
            "execution_count": null,
            "metadata": {},
            "outputs": [],
            "source": "sample = data['2016-01-01':'2018-01-01']\nsample.info()"
        },
        {
            "cell_type": "markdown",
            "metadata": {},
            "source": "#### Create Training/Validation/Test Splits\n\nBefore we attempt any time-series analysis and prediction, we should split the dataset into training, validation and test sets. We use a portion of the data for training, and a portion of _future_ data for our validation and test sets.\n\nIf we instead trained a model on the full dataset, the model would learn to be very good at making predictions on that particular dataset, essentially just copying the answers it knows. However, when presented with data the model _has not seen_ , it would perform poorly since it has not learned how to generalize its answers.\n\nBy training on a portion of the dataset and testing the model's performance on another portion of the dataset (which data the model has not seen in training), we try to avoid our models \"over-fitting\" the dataset and make them better at predicting temperatures given unseen, future data. This process of splitting the dataset and evaluating a model's performance on the validation and test sets is commonly known as [cross-validation](https://en.wikipedia.org/wiki/Cross-validation_(statistics)).\n\nBy default here we use 80% of the data for the training set and 10% each for validation and test sets."
        },
        {
            "cell_type": "code",
            "execution_count": null,
            "metadata": {},
            "outputs": [],
            "source": "def split_data(data, val_size=0.1, test_size=0.1):\n    \"\"\"\n    Splits data to training, validation and testing parts\n    \"\"\"\n    ntest = int(round(len(data) * (1 - test_size)))\n    nval = int(round(len(data) * (1 - test_size - val_size)))\n\n    df_train, df_val, df_test = data.iloc[:nval], data.iloc[nval:ntest], data.iloc[ntest:]\n    \n    return df_train, df_val, df_test\n\n\n# Create data split\ndf_train, df_val, df_test = split_data(sample)\n\nprint('Total data size:      {} rows'.format(len(sample)))\nprint('Training set size:    {} rows'.format(len(df_train)))\nprint('Validation set size:  {} rows'.format(len(df_val)))\nprint('Test set size:        {} rows'.format(len(df_test)))"
        },
        {
            "cell_type": "markdown",
            "metadata": {},
            "source": "<a id=\"cell2\"></a>\n\n### 2. Explore Baseline Models\n\nIn this section, we'll create a few simple predictive models of temperature, using shifting and rolling averages. These will serve as a baseline against which we can compare more sophisticated models.\n\nUsing values at recent timesteps (such as the most recent timestep `t-1` and second-most recent timestep `t-2`) to predict the current value at time `t` is what's known as persistence modeling, or using the last observed value to predict the next following value. These preceding timesteps are often referred to in time-series analysis as `lags`. So, the value at time `t-1` is known as the `1st lag` and the value at time `t-2` is the `2nd lag`.\n\nWe can also create baselines based on rolling (or moving) averages. This is a time-series constructed by averaging each lagged value up to the selected lag. For example, a 6-period (or 6-lag) rolling avearge is the average of the previous 6 hourly lags `t-6` to `t-1`.\n\nOur baseline models will be:\n1. `1st lag` - i.e. values at `t-1`\n2. `2nd lag` - i.e. values at `t-2`\n3. `6-lag` rolling average\n4. `12-lag` rolling average"
        },
        {
            "cell_type": "code",
            "execution_count": null,
            "metadata": {},
            "outputs": [],
            "source": "# define the column containing the data we wish to model - in this case Dry Bulb Temperature (F)\nY_COL = 'dry_bulb_temp_f'\n\n# Use shifting and rolling averages to predict Y_COL (t)\nn_in = 2\nn_out = 1\nfeatures = [Y_COL]\nn_features = len(features)\n\n# create the baseline on the entire sample dataset.\n# we will evaluate the prediction error on the validation set\nbaseline = sample[[Y_COL]].loc[:]\nbaseline['{} (t-1)'.format(Y_COL)] = baseline[Y_COL].shift(1)\nbaseline['{} (t-2)'.format(Y_COL)] = baseline[Y_COL].shift(2)\nbaseline['{} (6hr rollavg)'.format(Y_COL)] = baseline[Y_COL].rolling('6H').mean()\nbaseline['{} (12hr rollavg)'.format(Y_COL)] = baseline[Y_COL].rolling('12H').mean()\nbaseline.dropna(inplace=True)\nbaseline.head(10)"
        },
        {
            "cell_type": "markdown",
            "metadata": {},
            "source": "Next, we will plot data from our validation dataset to get a sense for how well these baseline models predict the next hourly temperature. Note thatd we only use a few days of data in order to make the plot easier to view."
        },
        {
            "cell_type": "code",
            "execution_count": null,
            "metadata": {},
            "outputs": [],
            "source": "# plot first 7 days of the validation set, 168 hours \nstart = df_val.index[0]\nend = df_val.index[167]\nsliced = baseline[start:end]"
        },
        {
            "cell_type": "code",
            "execution_count": null,
            "metadata": {},
            "outputs": [],
            "source": "# Plot baseline predictions sample\ncols = ['dry_bulb_temp_f', 'dry_bulb_temp_f (t-1)', 'dry_bulb_temp_f (t-2)', 'dry_bulb_temp_f (6hr rollavg)', 'dry_bulb_temp_f (12hr rollavg)']\nsliced[cols].plot()\n\nplt.legend(['t', 't-1', 't-2', '6hr', '12hr'], loc=2, ncol=3)\nplt.title('Baselines for First 7 Days of Validation Set')\nplt.ylabel('Temperature (F)')\nplt.tight_layout()\nplt.rcParams['figure.dpi'] = 100\nplt.show()"
        },
        {
            "cell_type": "markdown",
            "metadata": {},
            "source": "#### Evaluate baseline models\n\nAs you can perhaps see from the graph above, the _lagged_ baselines appear to do a better job of forecasting temperatures than the _rolling average_ baselines.\n\nIn order to evaluate our baseline models more precisely, we need to answer the question _\"how well do our models predict future temperature?\"_. In regression problems involving prediction of a numerical value, we often use a measure of the difference between our predicted value and the actual value. This is referred to as an error measure or error metric. A common measure is the Mean Squared Error (MSE):\n\n\\begin{equation}\nMSE = \\frac{1}{n} \\sum_{i=1}^{n}{(y_i - \\hat y_i)^{2}}\n\\end{equation}\n\nThis is the average of the squared differences between predicted values $ \\hat y $ and actual values $ y $.\n\nBecause the MSE is in \"units squared\" it can be difficult to interpet, hence the Root Mean Squared Error (RMSE) is often used:\n\n\\begin{equation}\nRMSE = \\sqrt {MSE} \n\\end{equation}\n\nThis is the square root of the MSE, and is in the same units as the values $ y $. We can compare the RMSE (and MSE) values for different models and say that the model that has the lower MSE is better at predicting temperatures, all things equal. Note that MSE and RMSE will grow large quickly if the differences between predicted and actual values are large. This may or may not be a desired quality of your error measure. In this case, it is probably a good thing, since a model that makes large mistakes in temperature prediction will be much less useful than one which makes small mistakes.\n\nNext, we calculate the RMSE measure for each of our baseline models, on the full validation set."
        },
        {
            "cell_type": "code",
            "execution_count": null,
            "metadata": {},
            "outputs": [],
            "source": "# Calculating baseline RMSE\nstart_val = df_val.index[0]\nend_val = df_val.index[-1]\nbaseline_val = baseline[start_val:end_val]\n\nbaseline_y = baseline_val[Y_COL]\nbaseline_t1 = baseline_val['dry_bulb_temp_f (t-1)']\nbaseline_t2 = baseline_val['dry_bulb_temp_f (t-2)']\nbaseline_avg6 = baseline_val['dry_bulb_temp_f (6hr rollavg)']\nbaseline_avg12 = baseline_val['dry_bulb_temp_f (12hr rollavg)']\n\nrmse_t1 = round(np.sqrt(mean_squared_error(baseline_y, baseline_t1)), 2)\nrmse_t2 = round(np.sqrt(mean_squared_error(baseline_y, baseline_t2)), 2)\nrmse_avg6 = round(np.sqrt(mean_squared_error(baseline_y, baseline_avg6)), 2)\nrmse_avg12 = round(np.sqrt(mean_squared_error(baseline_y, baseline_avg12)), 2)\n\nprint('Baseline t-1 RMSE:            {0:.3f}'.format(rmse_t1))\nprint('Baseline t-2 RMSE:            {0:.3f}'.format(rmse_t2))\nprint('Baseline 6hr rollavg RMSE:    {0:.3f}'.format(rmse_avg6))\nprint('Baseline 12hr rollavg RMSE:   {0:.3f}'.format(rmse_avg12))"
        },
        {
            "cell_type": "markdown",
            "metadata": {},
            "source": "The RMSE results confirm what we saw in the graph above. It is clear that the _rolling average_ baselines perform poorly. In fact, the `t-2` lagged baseline is also not very good. It appears that the best baseline model is to simply use the current hour's temperature to predict the next hour's temperature!\n\nCan we do better than this simple baseline using more sophisticated models?\n\n<a id=\"cell3\"></a>\n\n### 2. Train Statistical Time-series Analysis Models\n\n\nIn the previous section, we saw that a simple `lag-1` baseline model performed reasonably well at forecasting temperature for the next hourly time step. This is perhaps not too surprising, given what we know about hourly temperatures. Generally, the temperature in a given hour will be quite closely related to the temperature in the previous hour. This phenomenon is very common in time-series analysis and is known as [autocorrelation](https://en.wikipedia.org/wiki/Autocorrelation) - that is, the time series is `correlated` with previous values of itself. More precisely, the values at time `t` are correlated with lagged values (which could be `t-1`, `t-2` and so on).\n\nAnother thing we saw previously is the concept of _moving averages_. In this case the moving-average baseline was not that good at prediction. However it is common in many time-series for a moving average to capture some of the underlying structure and be useful for prediction.\n\nIn order to make our model better at predicting temperature, ideally we would want to take these aspects into account. Fortunately, the statistical community has a long history of analyzing time series and has created many different forecasting models.\n\nHere, we will explore one called SARIMAX - the **S**easonal **A**uto**R**egressive **I**ntegrated **M**oving **A**verage with e**X**ogenous regressors model. \n\nThis sounds like a very complex name, but if we look at the components of the name, we see that it includes `autocorrelation` (this is what auto regressive means) and `moving averages`, which are the components mentioned above. \n\nThe SARIMAX model also allows including a _seasonal_ model component as well as handling *exogenous* variables, which are external to the time-series value itself. For example, for temperature prediction we may wish to take into account not just previous temperature values, but perhaps other weather features which may have an effect on temperature (such as humidity, rainfall, wind, and so on).\n\nFor the purposes of this notebook, we will not explore modeling of seasonal components or exogenous variables.\n\nIf we drop the \"S\" and \"X\" from the model, we are left with an [ARIMA model](https://en.wikipedia.org/wiki/Autoregressive_integrated_moving_average) (Auto-regressive Integrated Moving Average). This is a very commonly used model for time-series analysis and we will use it in this notebook by only specifying the relevant model components of the full SARIMAX model.\n\n#### 2.1 Replicating a baseline model\n\nAs a starting point, we will see how we can use SARIMAX to create a simple model that in fact replicates one of the baselines we created previously. Auto-regression, as we have seen, means using values from preceding time periods to predict the current value. Recall that one of our baseline models was the `1st lag` or `t-1` model. In time-series analysis this is referred to as an **AR(1)** model, meaning an **A**uto-**R**egressive model for `lag 1`.\n\nTechnically, the AR(1) model is not exactly the same as our baseline model. A statistical time series model like SARIMAX learns a set of `weights` to apply to each component of the model. These weights are set so as to best fit the dataset. We can think of our baseline as setting the `weight` for the `t-1` lag to be exactly `1`. In practice, our time-series model will not have a weight of exactly `1` (though it will likely be very close to that), hence the predictions will be slightly different.\n\nNow, lets fit our model to the dataset. First, we will set up the model inputs by taking the temperature column of our dataframe. We do this for training and validation sets."
        },
        {
            "cell_type": "code",
            "execution_count": null,
            "metadata": {},
            "outputs": [],
            "source": "X_train = df_train[Y_COL]\nX_val = df_val[Y_COL]\nX_both = np.hstack((X_train, X_val))"
        },
        {
            "cell_type": "markdown",
            "metadata": {},
            "source": "Here we created a variable called `X_both` to cover both the training and validation data. This is required later when we forecast values for our SARIMAX model, in order to give the model access to all the datapoints for which it must create forecasts. Note that the forecasts themselves will only be based on the _model weights_ learned from the training data (this is important for over-fitting as we have seen above)!\n\nThe SARIMAX model takes an argument called `order`: this specifies the components of the model and itself has 3 parts: `(p, d, q)`. `p` denotes the lags for the AR model and `q` denotes the lags for the MA model. We will not cover the `d` parameter here. Taken together this specifies the parameters of the [ARIMA](https://en.wikipedia.org/wiki/Autoregressive_integrated_moving_average) model portion of SARIMAX.\n\nTo create an AR(1) model, we set the `order` to be `(1, 0, 0)`. This sets up the AR model to be a `lag 1` model. Then, we fit our model on the training data and inspect a summary of the trained model. "
        },
        {
            "cell_type": "code",
            "execution_count": null,
            "metadata": {},
            "outputs": [],
            "source": "order = (1, 0, 0)\nmodel_ar1 = SARIMAX(X_train, order=order)\nresults_ar1 = model_ar1.fit()\nresults_ar1.summary()"
        },
        {
            "cell_type": "markdown",
            "metadata": {},
            "source": "There's quite a lot of information printed out in the model summary above. Much of it is related to the statistical properties of our model.\n\nThe most important thing for now is to look at the second table, where we can see a `coef` value of `0.9996` for the weight `ar.L1`. This tells us the model has set a weight for the `1st lag` component of the AR model to be `0.9996`. This is almost `1` and hence we should expect the prediction results to indeed be close to our `t-1` baseline.\n\nLet's create our model forecast on the validation dataset. We will then plot a few data points like we did with our baseline models (using 7 days of validation data) and compute the RMSE value based on the full validation set."
        },
        {
            "cell_type": "code",
            "execution_count": null,
            "metadata": {},
            "outputs": [],
            "source": "full_data_ar1 = SARIMAX(X_both, order=order)\nmodel_forecast_ar1 = full_data_ar1.filter(results_ar1.params)"
        },
        {
            "cell_type": "code",
            "execution_count": null,
            "metadata": {},
            "outputs": [],
            "source": "start = len(X_train)\nend = len(X_both)\nforecast_ar1 = model_forecast_ar1.predict(start=start, end=end - 1, dynamic=False)\n\n# plot actual vs predicted values for the same 7-day window for easier viewing\nplt.plot(sliced[Y_COL].values)\nplt.plot(forecast_ar1[:168], color='r', linestyle='--')\nplt.legend(['t', 'AR(1)'], loc=2)\nplt.title('AR(1) Model Predictions for First 7 Days of Validation Set')\nplt.ylabel('Temperature (F)')\nplt.tight_layout()\nplt.show()"
        },
        {
            "cell_type": "markdown",
            "metadata": {},
            "source": "We can see that the plot looks almost identical to the plot above, for the `t` and `t-1 baseline` values.\n\nNext, we compute the RMSE values."
        },
        {
            "cell_type": "code",
            "execution_count": null,
            "metadata": {},
            "outputs": [],
            "source": "# compute print RMSE values\nrmse_ar1 = np.sqrt(mean_squared_error(baseline_val[Y_COL], forecast_ar1))\nprint('AR(1) RMSE:                   {0:.3f}'.format(rmse_ar1))\nprint('Baseline t-1 RMSE:            {0:.3f}'.format(rmse_t1))"
        },
        {
            "cell_type": "markdown",
            "metadata": {},
            "source": "We can see that the RMSE values for the validation set also almost identical.\n\n#### 2.2 Create a more complex model\n\nOne of our baseline models was a `lag 2` model, i.e. `t-2`. We saw that it performed a lot worse than the `t-1` baseline. Intuitively, this makes sense, since we are throwing away a lot of information about the most recent lag `t-1`. However, the `t-2` lag still provides some useful information. In fact, for temperature prediction it's likely that the last few hours can provide some value.\n\nFortunately, our ARIMA model framework provides an easy way to incorporate further lag information. We can construct a model that includes _both_ the `t-1` and `t-2` lags. This is an **AR(2)** model (meaning an auto-regressive model up to lag `2`). We can specify this with the model order parameter `p=2`."
        },
        {
            "cell_type": "code",
            "execution_count": null,
            "metadata": {},
            "outputs": [],
            "source": "order = (2, 0, 0)\nmodel_ar2 = SARIMAX(X_train, order=order)\nresults_ar2 = model_ar2.fit()\nresults_ar2.summary()"
        },
        {
            "cell_type": "markdown",
            "metadata": {},
            "source": "This time, the results table indicates a weight for variable `ar.L1` _and_ `ar.L2`. Note the values are now quite different from `1` (or `0.5` say, for a simple equally-weighted model). Next, we compute the RMSE on the validation set. "
        },
        {
            "cell_type": "code",
            "execution_count": null,
            "metadata": {},
            "outputs": [],
            "source": "full_data_ar2 = SARIMAX(X_both, order=order)\nmodel_forecast_ar2 = full_data_ar2.filter(results_ar2.params)\n\nstart = len(X_train)\nend = len(X_both)\nforecast_ar2 = model_forecast_ar2.predict(start=start, end=end - 1, dynamic=False)\n\n# compute print RMSE values\nrmse_ar2 = np.sqrt(mean_squared_error(baseline_val[Y_COL], forecast_ar2))\nprint('AR(2) RMSE:                   {0:.3f}'.format(rmse_ar2))\nprint('AR(1) RMSE:                   {0:.3f}'.format(rmse_ar1))\nprint('Baseline t-1 RMSE:            {0:.3f}'.format(rmse_t1))"
        },
        {
            "cell_type": "markdown",
            "metadata": {},
            "source": "We've improved the RMSE value by including information from the first two lags.\n\nIn fact, you will see that if you continue to increase the `p` parameter value, the RMSE will continue to decrease, indicating that a few recent lags provide useful information to our model.\n\n#### 2.3 Incorporate moving averages\n\nFinally, what if we also include moving average information in our model? The ARIMA framework makes this easy to do, by setting the order parameter `q`. A value of `q=1` specifies a **MA(1)** model (including the first lag `t-1`), while `q=6` would include all the lags from `t-1` to `t-6`.\n\nNote that the moving average model component is a little different from the simple moving or rolling averages computed in the baseline models. The [definition of the MA model](https://en.wikipedia.org/wiki/Moving-average_model) is rather technical, but conceptually you can think of it as using a form of weighted moving average (compared to our baseline which would be a simple, unweighted average).\n\nLet's add an MA(1) component to our AR(2) model."
        },
        {
            "cell_type": "code",
            "execution_count": null,
            "metadata": {},
            "outputs": [],
            "source": "order = (2, 0, 1)\nmodel_ar2ma1 = SARIMAX(X_train, order=order)\nresults_ar2ma1 = model_ar2ma1.fit()\nresults_ar2ma1.summary()"
        },
        {
            "cell_type": "markdown",
            "metadata": {},
            "source": "We see the results table shows an additional weight value for `ma.L1`, our MA(1) component. Next, we compare the RMSE to the other models and finally plot all the model forecasts together - _note_ we use a much smaller 48-hour window to make the plot readable for illustrative purposes. "
        },
        {
            "cell_type": "code",
            "execution_count": null,
            "metadata": {},
            "outputs": [],
            "source": "full_data_ar2ma1 = SARIMAX(X_both, order=order)\nmodel_forecast_ar2ma1 = full_data_ar2ma1.filter(results_ar2ma1.params)\n\nstart = len(X_train)\nend = len(X_both)\nforecast_ar2ma1 = model_forecast_ar2ma1.predict(start=start, end=end - 1, dynamic=False)\n\n# compute print RMSE values\nrmse_ar2ma1 = np.sqrt(mean_squared_error(baseline_val[Y_COL], forecast_ar2ma1))\nprint('AR(2) MA(1) RMSE:             {0:.3f}'.format(rmse_ar2ma1))\nprint('AR(2) RMSE:                   {0:.3f}'.format(rmse_ar2))\nprint('AR(1) RMSE:                   {0:.3f}'.format(rmse_ar1))\nprint('Baseline t-1 RMSE:            {0:.3f}'.format(rmse_t1))"
        },
        {
            "cell_type": "code",
            "execution_count": null,
            "metadata": {},
            "outputs": [],
            "source": "# plot actual vs predicted values for a smaller 2-day window for easier viewing\nhrs = 48\nplt.plot(sliced[Y_COL][:hrs].values)\nplt.plot(forecast_ar1[:hrs], color='r', linestyle='--')\nplt.plot(forecast_ar2[:hrs], color='g', linestyle='--')\nplt.plot(forecast_ar2ma1[:hrs], color='c', linestyle='--')\nplt.legend(['t', 'AR(1)', 'AR(2)', 'AR(2) MA(1)'], loc=2, ncol=1)\nplt.title('ARIMA Model Predictions for First 48 hours of Validation Set')\nplt.ylabel('Temperature (F)')\nplt.tight_layout()\nplt.show()"
        },
        {
            "cell_type": "markdown",
            "metadata": {},
            "source": "We've again managed to reduce the RMSE value for our model, indicating that adding the MA(1) component has improved our forecast!\n\nCongratulations! You've applied the basics of time-series analysis for forecasting hourly temperatures. See if you can further improve the RMSE values by exploring the different values for the model parameters `p`, `q` and even `d`!\n\n<a id=\"authors\"></a> \n### Authors\n\nThis notebook was created by the [Center for Open-Source Data & AI Technologies](http://codait.org).\n\nCopyright \u00a9 2019 IBM. This notebook and its source code are released under the terms of the MIT License."
        },
        {
            "cell_type": "markdown",
            "metadata": {},
            "source": "<div style=\"background:#F5F7FA; height:110px; padding: 2em; font-size:14px;\">\n<span style=\"font-size:18px;color:#152935;\">Love this notebook? </span>\n<span style=\"font-size:15px;color:#152935;float:right;margin-right:40px;\">Don't have an account yet?</span><br>\n<span style=\"color:#5A6872;\">Share it with your colleagues and help them discover the power of Watson Studio!</span>\n<span style=\"border: 1px solid #3d70b2;padding:8px;float:right;margin-right:40px; color:#3d70b2;\"><a href=\"https://ibm.co/wsnotebooks\" target=\"_blank\" style=\"color: #3d70b2;text-decoration: none;\">Sign Up</a></span><br>\n</div>"
        }
    ],
    "metadata": {
        "kernelspec": {
            "display_name": "Python 3.6",
            "language": "python",
            "name": "python3"
        },
        "language_info": {
            "codemirror_mode": {
                "name": "ipython",
                "version": 3
            },
            "file_extension": ".py",
            "mimetype": "text/x-python",
            "name": "python",
            "nbconvert_exporter": "python",
            "pygments_lexer": "ipython3",
            "version": "3.6.9"
        }
    },
    "nbformat": 4,
    "nbformat_minor": 1
}